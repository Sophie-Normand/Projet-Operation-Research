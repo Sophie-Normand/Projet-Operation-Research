{
 "cells": [
  {
   "cell_type": "code",
   "execution_count": 1,
   "metadata": {},
   "outputs": [],
   "source": [
    "from scipy.io import arff\n",
    "import pandas as pd\n"
   ]
  },
  {
   "attachments": {},
   "cell_type": "markdown",
   "metadata": {},
   "source": [
    "## 1st dataset: https://archive.ics.uci.edu/ml/datasets/Thoracic+Surgery+Data\n"
   ]
  },
  {
   "cell_type": "code",
   "execution_count": 2,
   "metadata": {},
   "outputs": [],
   "source": [
    "data = arff.loadarff('downloaded_data/ThoraricSurgery.arff')\n",
    "df = pd.DataFrame(data[0])"
   ]
  },
  {
   "cell_type": "code",
   "execution_count": 3,
   "metadata": {},
   "outputs": [],
   "source": [
    "from sklearn import preprocessing\n",
    "\n",
    "for column in ['DGN', 'PRE6', 'PRE14', 'PRE7', 'PRE8', 'PRE9', 'PRE10', 'PRE11', 'PRE17', 'PRE19', 'PRE25', 'PRE30', 'PRE32', 'Risk1Yr']:\n",
    "    le = preprocessing.LabelEncoder()\n",
    "    le.fit(df[column])\n",
    "\n",
    "    df[column] = le.transform(df[column])\n"
   ]
  },
  {
   "cell_type": "code",
   "execution_count": 4,
   "metadata": {},
   "outputs": [],
   "source": [
    "# extract the values from the dataframe and format them as a string\n",
    "values_str = \"; \".join([\" \".join([f\"{val:.3g}\" for val in row]) for row in df.loc[:, df.columns != 'Risk1Yr'].values])\n",
    "\n",
    "# create the final string with the desired shape\n",
    "final_str_x = f\"X=[{values_str}]\"\n",
    "\n",
    "values_str = \", \".join([\" \".join([f\"{val:.3g}\" for val in row]) for row in df.loc[:, df.columns == 'Risk1Yr'].values])\n",
    "\n",
    "# create the final string with the desired shape\n",
    "final_str_y = f\"\\nY=[{values_str}]\"\n",
    "\n",
    "final_str = final_str_x + final_str_y"
   ]
  },
  {
   "cell_type": "code",
   "execution_count": 5,
   "metadata": {},
   "outputs": [],
   "source": [
    "with open('../data/thoracic_surgery.txt', 'w') as f:\n",
    "    f.write(final_str)"
   ]
  },
  {
   "attachments": {},
   "cell_type": "markdown",
   "metadata": {},
   "source": [
    "## 2nd Dataset: https://archive.ics.uci.edu/ml/datasets/Early+stage+diabetes+risk+prediction+dataset."
   ]
  },
  {
   "cell_type": "code",
   "execution_count": 6,
   "metadata": {},
   "outputs": [],
   "source": [
    "df = pd.read_csv('downloaded_data/diabetes_data_upload.csv')"
   ]
  },
  {
   "cell_type": "code",
   "execution_count": 7,
   "metadata": {},
   "outputs": [],
   "source": [
    "from sklearn import preprocessing\n",
    "\n",
    "for column in df.loc[:, df.columns != 'Age'].columns:\n",
    "    le = preprocessing.LabelEncoder()\n",
    "    le.fit(df[column])\n",
    "\n",
    "    df[column] = le.transform(df[column])\n"
   ]
  },
  {
   "cell_type": "code",
   "execution_count": 8,
   "metadata": {},
   "outputs": [],
   "source": [
    "# extract the values from the dataframe and format them as a string\n",
    "values_str = \"; \".join([\" \".join([f\"{val:.3g}\" for val in row]) for row in df.loc[:, df.columns != 'class'].values])\n",
    "\n",
    "# create the final string with the desired shape\n",
    "final_str_x = f\"X=[{values_str}]\"\n",
    "\n",
    "values_str = \", \".join([\" \".join([f\"{val:.3g}\" for val in row]) for row in df.loc[:, df.columns == 'class'].values])\n",
    "\n",
    "# create the final string with the desired shape\n",
    "final_str_y = f\"\\nY=[{values_str}]\"\n",
    "\n",
    "final_str = final_str_x + final_str_y"
   ]
  },
  {
   "cell_type": "code",
   "execution_count": 9,
   "metadata": {},
   "outputs": [],
   "source": [
    "with open('../data/diabetes_data.txt', 'w') as f:\n",
    "    f.write(final_str)"
   ]
  }
 ],
 "metadata": {
  "kernelspec": {
   "display_name": "Python 3",
   "language": "python",
   "name": "python3"
  },
  "language_info": {
   "codemirror_mode": {
    "name": "ipython",
    "version": 3
   },
   "file_extension": ".py",
   "mimetype": "text/x-python",
   "name": "python",
   "nbconvert_exporter": "python",
   "pygments_lexer": "ipython3",
   "version": "3.7.4"
  },
  "orig_nbformat": 4,
  "vscode": {
   "interpreter": {
    "hash": "40d3a090f54c6569ab1632332b64b2c03c39dcf918b08424e98f38b5ae0af88f"
   }
  }
 },
 "nbformat": 4,
 "nbformat_minor": 2
}
